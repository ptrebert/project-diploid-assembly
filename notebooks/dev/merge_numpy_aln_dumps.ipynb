{
 "cells": [
  {
   "cell_type": "code",
   "execution_count": 7,
   "metadata": {},
   "outputs": [
    {
     "name": "stdout",
     "output_type": "stream",
     "text": [
      "2846211526\n",
      "num_hap\n",
      "1        2945021\n",
      "2        3464902\n",
      "3        2505441\n",
      "4        2542069\n",
      "5        2043097\n",
      "         ...    \n",
      "60       5065712\n",
      "61       5569952\n",
      "62      21048551\n",
      "63      65643213\n",
      "64    2636716984\n",
      "Name: length, Length: 64, dtype: int64\n"
     ]
    }
   ],
   "source": [
    "import os\n",
    "import numpy as np\n",
    "import numpy.ma as ma\n",
    "import pandas as pd\n",
    "import collections as col\n",
    "\n",
    "input_path = '/home/local/work/data/hgsvc/aln_summary'\n",
    "\n",
    "\n",
    "# chrom_regions = []\n",
    "\n",
    "# for dump in os.listdir(input_path):\n",
    "#     if 'hifi-prio' not in dump or not dump.endswith('.npy'):\n",
    "#         continue\n",
    "#     a = np.load(os.path.join(input_path, dump))\n",
    "#     chrom = dump.rsplit('.', 2)[-2]\n",
    "#     print(chrom)\n",
    "#     genomic_coordinates = np.arange(a.size, dtype=np.int32)\n",
    "#     for i in range(1, 65, 1):\n",
    "#         select_regions = ma.masked_array(genomic_coordinates, mask=(a == i))\n",
    "#         df = pd.DataFrame(\n",
    "#             [(s.start, s.stop) for s in  ma.clump_masked(select_regions)],\n",
    "#             columns=['start', 'end'],\n",
    "#             dtype='int32'\n",
    "#         )\n",
    "#         df['chrom'] = chrom\n",
    "#         df['num_hap'] = i\n",
    "#         chrom_regions.append(df)\n",
    "\n",
    "# chrom_regions = pd.concat(chrom_regions, axis=0, ignore_index=False)\n",
    "# chrom_regions.sort_values(['chrom', 'start'], inplace=True, axis=0)\n",
    "    \n",
    "# with open(os.path.join(input_path, 'aln_64hap_hifi-prio.mapq60.bed'), 'w') as bed:\n",
    "#     _ = bed.write('#')\n",
    "#     chrom_regions.to_csv(\n",
    "#         bed,\n",
    "#         header=True,\n",
    "#         index=False,\n",
    "#         sep='\\t',\n",
    "#         columns=['chrom', 'start', 'end', 'num_hap']\n",
    "#     )\n"
   ]
  }
 ],
 "metadata": {
  "kernelspec": {
   "display_name": "Python 3",
   "language": "python",
   "name": "python3"
  },
  "language_info": {
   "codemirror_mode": {
    "name": "ipython",
    "version": 3
   },
   "file_extension": ".py",
   "mimetype": "text/x-python",
   "name": "python",
   "nbconvert_exporter": "python",
   "pygments_lexer": "ipython3",
   "version": "3.7.6"
  }
 },
 "nbformat": 4,
 "nbformat_minor": 4
}
