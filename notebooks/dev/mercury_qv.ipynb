{
 "cells": [
  {
   "cell_type": "code",
   "execution_count": 4,
   "metadata": {},
   "outputs": [
    {
     "name": "stdout",
     "output_type": "stream",
     "text": [
      "hap1 P(correct): 0.9997999995774884\n",
      "hap2 P(correct): 0.9997944850135683\n",
      "hap1 P(error): 0.00020000042251155925\n",
      "hap2 P(error): 0.00020103928843706598\n",
      "hap1 QV: 36.98969086864794\n",
      "hap2 QV: 36.9671906156432\n"
     ]
    }
   ],
   "source": [
    "\n",
    "\"\"\"\n",
    "Formulas for QV estimation as stated in \n",
    "\n",
    "Rhie, A., Walenz, B.P., Koren, S. et al.\n",
    "Merqury: reference-free quality, completeness, and phasing assessment for genome assemblies.\n",
    "Genome Biol 21, 245 (2020). https://doi.org/10.1186/s13059-020-02134-9\n",
    "\n",
    "Methods section \"Consensus quality (QV) estimation\"\n",
    "\"\"\"\n",
    "\n",
    "import math\n",
    "\n",
    "def prob_base_correct(kmer_shared, kmer_total, kmer_size=21):\n",
    "    \n",
    "    return (kmer_shared / kmer_total) ** (1/kmer_size)\n",
    "\n",
    "\n",
    "def base_error_rate(kmer_assembly_only, kmer_total, kmer_size=21):\n",
    "       \n",
    "    return 1 - (1 - kmer_assembly_only / kmer_total) ** (1/kmer_size)\n",
    "\n",
    "\n",
    "def qv_estimate(error_rate):\n",
    "    \n",
    "    return -10 * math.log10(error_rate)\n",
    "\n",
    "output = \"\"\"\n",
    "NA19650_hgsvc_pbsq2-clr_1000-flye.h1-un.arrow-p1        12000233        2850910652      36.9714 0.000200844\n",
    "NA19650_hgsvc_pbsq2-clr_1000-flye.h2-un.arrow-p1        12062704        2850642654      36.9484 0.000201911\n",
    "Both    24062937        5701553306      36.9599 0.000201377\n",
    "\"\"\"\n",
    "\n",
    "hap1_kmer_only = 12000233\n",
    "hap2_kmer_only = 12062704\n",
    "\n",
    "hap1_kmer_shared = 2850910652\n",
    "hap2_kmer_shared = 2850642654\n",
    "\n",
    "print('hap1 P(correct): {}'.format(prob_base_correct(hap1_kmer_shared, hap1_kmer_shared + hap1_kmer_only)))\n",
    "print('hap2 P(correct): {}'.format(prob_base_correct(hap2_kmer_shared, hap1_kmer_shared + hap2_kmer_only)))\n",
    "hap1_error = base_error_rate(hap1_kmer_only, hap1_kmer_only + hap1_kmer_shared)\n",
    "hap2_error = base_error_rate(hap2_kmer_only, hap2_kmer_only + hap1_kmer_shared)\n",
    "print('hap1 P(error): {}'.format(hap1_error))\n",
    "print('hap2 P(error): {}'.format(hap2_error))\n",
    "print('hap1 QV: {}'.format(qv_estimate(hap1_error)))\n",
    "print('hap2 QV: {}'.format(qv_estimate(hap2_error)))"
   ]
  }
 ],
 "metadata": {
  "kernelspec": {
   "display_name": "Python 3",
   "language": "python",
   "name": "python3"
  },
  "language_info": {
   "codemirror_mode": {
    "name": "ipython",
    "version": 3
   },
   "file_extension": ".py",
   "mimetype": "text/x-python",
   "name": "python",
   "nbconvert_exporter": "python",
   "pygments_lexer": "ipython3",
   "version": "3.7.6"
  }
 },
 "nbformat": 4,
 "nbformat_minor": 4
}
