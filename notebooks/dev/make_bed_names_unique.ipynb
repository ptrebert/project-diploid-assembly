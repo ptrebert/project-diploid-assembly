{
 "cells": [
  {
   "cell_type": "code",
   "execution_count": 6,
   "metadata": {},
   "outputs": [],
   "source": [
    "\n",
    "import os\n",
    "import io\n",
    "import operator\n",
    "\n",
    "path = '/home/local/work/data/hgsvc/assmgaps'\n",
    "\n",
    "get_new_name_cols = operator.itemgetter(*(0, 1, 2, 3))\n",
    "\n",
    "for bedfile in os.listdir(path):\n",
    "    if not bedfile.endswith('.bed'):\n",
    "        continue\n",
    "    bed_path = os.path.join(path, bedfile)\n",
    "    bed_buffer = io.StringIO()\n",
    "    with open(bed_path, 'r') as bed:\n",
    "        for line in bed:\n",
    "            columns = line.strip().split()\n",
    "            if int(columns[4]) < 60:\n",
    "                continue\n",
    "            new_name = '{}:{}-{}@{}'.format(*get_new_name_cols(columns))\n",
    "            columns[3] = new_name\n",
    "            bed_buffer.write('\\t'.join(columns) + '\\n')\n",
    "\n",
    "    new_bed_path = bed_path.replace('.bed', '.uniq.bed')\n",
    "    with open(new_bed_path, 'w') as dump:\n",
    "        _ = dump.write(bed_buffer.getvalue())\n"
   ]
  }
 ],
 "metadata": {
  "kernelspec": {
   "display_name": "Python 3",
   "language": "python",
   "name": "python3"
  },
  "language_info": {
   "codemirror_mode": {
    "name": "ipython",
    "version": 3
   },
   "file_extension": ".py",
   "mimetype": "text/x-python",
   "name": "python",
   "nbconvert_exporter": "python",
   "pygments_lexer": "ipython3",
   "version": "3.7.6"
  }
 },
 "nbformat": 4,
 "nbformat_minor": 4
}
