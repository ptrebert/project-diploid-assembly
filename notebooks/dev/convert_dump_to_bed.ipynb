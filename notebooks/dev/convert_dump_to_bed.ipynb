{
 "cells": [
  {
   "cell_type": "code",
   "execution_count": 31,
   "metadata": {},
   "outputs": [
    {
     "name": "stdout",
     "output_type": "stream",
     "text": [
      "short_reads\n",
      "{'readset': 'NA12878_ptg_il2k-100pe_short', 'source_type': 'ena', 'bioproject': 'PRJEB3381', 'load_type': 'complete'}\n"
     ]
    }
   ],
   "source": [
    "import os\n",
    "\n",
    "import pandas as pd\n",
    "\n",
    "dump_path = '/home/local/work/data/hgsvc/assmgaps/raw_dumps'\n",
    "\n",
    "\n",
    "def determine_python_type(sql_type):\n",
    "    if 'varchar' in sql_type or 'char' in sql_type:\n",
    "        pytype = str\n",
    "    elif 'int' in sql_type or 'smallint' in sql_type:\n",
    "        pytype = int\n",
    "    elif 'float' in sql_type:\n",
    "        pytype = float\n",
    "    else:\n",
    "        raise ValueError('Cannot determine type: {}'.format(sql_type))\n",
    "    return pytype\n",
    "\n",
    "\n",
    "def parse_header(file_path):\n",
    "    \n",
    "    column_names = []\n",
    "    column_types = []\n",
    "    col_def = False\n",
    "    with open(file_path, 'r') as sql_dump:\n",
    "        for line in sql_dump:\n",
    "            if line.startswith('CREATE TABLE'):\n",
    "                col_def = True\n",
    "                continue\n",
    "            if not col_def:\n",
    "                continue\n",
    "            if line.strip().startswith('KEY') or line.strip().startswith('UNIQUE'):\n",
    "                break\n",
    "            parts = line.strip().split()\n",
    "            col_name = parts[0].strip('`')\n",
    "            try:\n",
    "                col_type = determine_python_type(parts[1])\n",
    "            except ValueError:\n",
    "                print(line)\n",
    "                raise\n",
    "            column_names.append(col_name)\n",
    "            column_types.append(col_type)\n",
    "    column_types = dict((n, t) for n, t in zip(column_names, column_types))\n",
    "    return column_names, column_types\n",
    "\n",
    "for dump in os.listdir(dump_path):\n",
    "    if dump.endswith('sql') or dump.endswith('bed'):\n",
    "        continue\n",
    "    data_file = os.path.join(dump_path, dump)\n",
    "    header_file = os.path.join(dump_path, dump.replace('txt.gz', 'sql'))\n",
    "    column_names, column_types = parse_header(header_file)\n",
    "    df = pd.read_csv(data_file, sep='\\t', names=column_names, dtype=column_types)\n",
    "    df.drop('bin', axis=1, inplace=True)\n",
    "    if 'ix' in df:\n",
    "        df.drop('ix', axis=1, inplace=True)\n",
    "    if 'posBasesHit' in df:\n",
    "        df.drop(['posBasesHit', 'testResult', 'verdict', 'chits', 'ccov', 'alignfile'],\n",
    "                inplace=True, axis=1)\n",
    "    \n",
    "    output_file = data_file.replace('txt.gz', 'bed')\n",
    "    with open(output_file, 'w') as bed:\n",
    "        _ = bed.write('#')\n",
    "        df.to_csv(bed, sep='\\t', header=True, index=False)\n"
   ]
  }
 ],
 "metadata": {
  "kernelspec": {
   "display_name": "Python 3",
   "language": "python",
   "name": "python3"
  },
  "language_info": {
   "codemirror_mode": {
    "name": "ipython",
    "version": 3
   },
   "file_extension": ".py",
   "mimetype": "text/x-python",
   "name": "python",
   "nbconvert_exporter": "python",
   "pygments_lexer": "ipython3",
   "version": "3.7.6"
  }
 },
 "nbformat": 4,
 "nbformat_minor": 4
}
