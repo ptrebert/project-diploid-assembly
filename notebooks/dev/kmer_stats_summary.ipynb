{
 "cells": [
  {
   "cell_type": "code",
   "execution_count": 1,
   "metadata": {},
   "outputs": [],
   "source": [
    "import os as os\n",
    "import pandas as pd\n",
    "import re as re\n",
    "\n",
    "path = '/home/pebert/work/data/kmer_tables'\n",
    "\n",
    "tables = [f for f in os.listdir(path) if f.endswith('.tsv')]\n",
    "\n",
    "split_query = r'(?P<region>[A-Z]+)_(?P<ENSID>ENSR[0-9]+)::(?P<chrom>[A-Za-z0-9_]+):(?P<start>[0-9]+)\\-(?P<end>[0-9]+)'\n",
    "\n",
    "def derive_label(row):\n",
    "    if not row['hg38']:\n",
    "        return 'ref_unknown'\n",
    "    if (row['short1'] or row['short2']) and (row['hap1'] and row['hap2']):\n",
    "        return 'present'\n",
    "    elif (row['hap1'] or row['hap2']) and not (row['short1'] and row['short2']):\n",
    "        return 'non_illumina'\n",
    "    elif row['hap1'] and not row['hap2'] and (row['short1'] or row['short2']):\n",
    "        return 'hap_present'\n",
    "    elif not row['hap1'] and row['hap2'] and (row['short1'] or row['short2']):\n",
    "        return 'hap_present'\n",
    "    elif not (row['hap1'] and row['hap2']) and (row['short1'] or row['short2']):\n",
    "        return 'missing'\n",
    "    else:\n",
    "        return 'ref_only'\n",
    "\n",
    "summary_stats = []\n",
    "for tsv in tables:\n",
    "    read_type = tsv.split('_')[3].split('-')[-1]\n",
    "    epsilon = tsv.split('.')[-2]\n",
    "    tsv_path = os.path.join(path, tsv)\n",
    "    df = pd.read_csv(tsv_path, sep='\\t', names=['query', 'short1', 'short2', 'hap1', 'hap2', 'hg38'],\n",
    "                     header=0, skiprows=0)\n",
    "    location = df['query'].str.extract(split_query, expand=True)\n",
    "    location['start'] = location['start'].astype(int)\n",
    "    location['end'] = location['end'].astype(int)\n",
    "    df = pd.concat([df, location], axis=1)\n",
    "    df['length'] = df['end'] - df['start']\n",
    "    region_bp = df.groupby(['region'])['length'].sum()\n",
    "    \n",
    "    df['label'] = df[['short1', 'short2', 'hap1', 'hap2', 'hg38']].apply(derive_label, axis=1, raw=False)\n",
    "    res_bp = df.groupby(['region', 'label'])['length'].sum()\n",
    "    res_bp = res_bp.rename('length_bp_{}_{}'.format(read_type, epsilon))\n",
    "    \n",
    "    res_pct = (res_bp.divide(region_bp) * 100).round(3)\n",
    "    res_pct = res_pct.rename('length_pct_{}_{}'.format(read_type, epsilon))\n",
    "    \n",
    "    summary_stats.extend([res_bp, res_pct])\n",
    "    \n",
    "summary_stats = pd.concat(summary_stats, axis=1)\n",
    "\n",
    "stats_path = os.path.join(path, 'summary_stats.tsv')\n",
    "\n",
    "with open(stats_path, 'w') as dump:\n",
    "    summary_stats.to_csv(dump, sep='\\t')\n"
   ]
  }
 ],
 "metadata": {
  "kernelspec": {
   "display_name": "Python 3",
   "language": "python",
   "name": "python3"
  },
  "language_info": {
   "codemirror_mode": {
    "name": "ipython",
    "version": 3
   },
   "file_extension": ".py",
   "mimetype": "text/x-python",
   "name": "python",
   "nbconvert_exporter": "python",
   "pygments_lexer": "ipython3",
   "version": "3.7.6"
  }
 },
 "nbformat": 4,
 "nbformat_minor": 2
}
