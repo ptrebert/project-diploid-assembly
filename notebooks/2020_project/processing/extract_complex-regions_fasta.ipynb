{
 "cells": [
  {
   "cell_type": "code",
   "execution_count": 15,
   "metadata": {},
   "outputs": [],
   "source": [
    "import os\n",
    "import collections as col\n",
    "import dnaio\n",
    "\n",
    "assembly_path = '/home/local/work/pipeline/run_folder/references/assemblies'\n",
    "assemblies = ['T2Tv1_38p13Y_chm13.fasta', 'GRCh38_HGSVC2_noalt.fasta']\n",
    "\n",
    "roi_path = '/home/local/work/data/hgsvc/roi'\n",
    "roi_files = ['roi-t2t_1p3613.bed', 'roi_HLA_3q29_HLAn_1p3613.bed']\n",
    "\n",
    "out_path = '/home/local/work/data'\n",
    "outfiles = ['t2t_', 'hg38_']\n",
    "\n",
    "for out_prefix, roi_file, assm_file in zip(outfiles, roi_files, assemblies):\n",
    "    assm_path = os.path.join(assembly_path, assm_file)\n",
    "    bed_file = os.path.join(roi_path, roi_file)\n",
    "    \n",
    "    regions = col.defaultdict(list)\n",
    "    \n",
    "    with open(bed_file, 'r') as bed:\n",
    "        for line in bed:\n",
    "            if ('1p36.13' not in line) and ('3q29' not in line):\n",
    "                continue\n",
    "            chrom, start, end, name = line.strip().split()\n",
    "            regions[chrom].append((int(start), int(end), name))\n",
    "            \n",
    "    with dnaio.open(assm_path) as fasta:\n",
    "        for record in fasta:\n",
    "            if record.name not in regions:\n",
    "                continue\n",
    "            for (start, end, name) in regions[record.name]:\n",
    "                \n",
    "                start_lower = int(start // 1e6 * 1e6)\n",
    "                end_upper = int(end // 1e6 * 1e6 + 1e6)\n",
    "                region_seq = record.sequence[start_lower:end_upper]\n",
    "                                \n",
    "                out_file_name = out_prefix + '{}_{}M-{}M_{}.fasta'.format(\n",
    "                    record.name,\n",
    "                    int(start_lower // 1e6),\n",
    "                    int(end_upper // 1e6),\n",
    "                    name\n",
    "                )\n",
    "                out_file_path = os.path.join(out_path, out_file_name)\n",
    "                writer = dnaio.FastaWriter(out_file_path, 120)\n",
    "                writer.write(out_file_name.rsplit('.', 1)[0], region_seq)\n",
    "                \n"
   ]
  }
 ],
 "metadata": {
  "kernelspec": {
   "display_name": "Python 3",
   "language": "python",
   "name": "python3"
  },
  "language_info": {
   "codemirror_mode": {
    "name": "ipython",
    "version": 3
   },
   "file_extension": ".py",
   "mimetype": "text/x-python",
   "name": "python",
   "nbconvert_exporter": "python",
   "pygments_lexer": "ipython3",
   "version": "3.7.6"
  }
 },
 "nbformat": 4,
 "nbformat_minor": 4
}
