{
 "cells": [
  {
   "cell_type": "code",
   "execution_count": 2,
   "metadata": {},
   "outputs": [
    {
     "name": "stdout",
     "output_type": "stream",
     "text": [
      "magenta 1  -  26760\n",
      "blue 2  -  7479\n",
      "yellow 3  -  5780\n",
      "red 4  -  40729\n",
      "orange 5  -  15890\n",
      "darkblue 6  -  139585\n",
      "purple 7  -  35781\n",
      "yellow 8  -  5755\n",
      "blue 9  -  6382\n"
     ]
    }
   ],
   "source": [
    "import os\n",
    "import io\n",
    "import pandas as pd\n",
    "\n",
    "\"\"\"\n",
    "What does this do?\n",
    "Take flattened Bionano segment annotation table and cut out segment sequence from\n",
    "reference to align against phased assemblies (prerequisite to compute concordance\n",
    "for 3q29 between Bionano and phased assemblies).\n",
    "\"\"\"\n",
    "\n",
    "\n",
    "chr3_fasta = '/home/local/work/data/hgsvc/roi/dotplots_chr3/GRCh38_HGSVC2_noalt.chr3.fasta'\n",
    "\n",
    "bng_table = pd.read_csv(\n",
    "    '/home/local/work/data/hgsvc/roi/20201109_3q29_bng_segments.flat.tsv',\n",
    "    sep='\\t',\n",
    "    header=0\n",
    ")\n",
    "\n",
    "refseq = ''\n",
    "with open(chr3_fasta, 'r') as fasta:\n",
    "    for line in fasta:\n",
    "        if line.startswith('>'):\n",
    "            continue\n",
    "        refseq += line.strip()\n",
    "        \n",
    "bng_table = bng_table.loc[bng_table['contig_id'] == 'reference', :].copy()\n",
    "\n",
    "all_colors = io.StringIO()\n",
    "\n",
    "line_length = 80\n",
    "out_path = '/home/local/work/data/hgsvc/roi/dotplots_chr3/chr3_segments'\n",
    "for position, (idx, row) in enumerate(bng_table.iterrows(), start=1):\n",
    "    start = row['segment_start']\n",
    "    end = row['segment_end']\n",
    "    name = row['segment_color']\n",
    "    segment_seq = refseq[start:end]\n",
    "    \n",
    "    header = '>chr3q29_{}_{}'.format(name, position)\n",
    "    out_file = os.path.join(out_path, 'hg38_chr3q29_{}_{}.fasta'.format(name, position))\n",
    "    dumped = 0\n",
    "    with open(out_file, 'w') as dump:\n",
    "        _ = dump.write(header + '\\n')\n",
    "        _ = all_colors.write(header+'\\n')\n",
    "        for pos in range(0, len(segment_seq)//line_length + 1):\n",
    "            written = dump.write(segment_seq[pos*line_length:pos*line_length+line_length])\n",
    "            _ = all_colors.write(segment_seq[pos*line_length:pos*line_length+line_length] + '\\n')\n",
    "            dumped += written\n",
    "            _ = dump.write('\\n')\n",
    "    all_colors.write('\\n')\n",
    "    print(name, position, ' - ', dumped)\n",
    "    \n",
    "with open(os.path.join(out_path, 'hg38_chr3q29_all_segments.fasta'), 'w') as dump:\n",
    "    _ = dump.write(all_colors.getvalue())\n",
    "        \n"
   ]
  }
 ],
 "metadata": {
  "kernelspec": {
   "display_name": "Python 3",
   "language": "python",
   "name": "python3"
  },
  "language_info": {
   "codemirror_mode": {
    "name": "ipython",
    "version": 3
   },
   "file_extension": ".py",
   "mimetype": "text/x-python",
   "name": "python",
   "nbconvert_exporter": "python",
   "pygments_lexer": "ipython3",
   "version": "3.7.6"
  }
 },
 "nbformat": 4,
 "nbformat_minor": 4
}
