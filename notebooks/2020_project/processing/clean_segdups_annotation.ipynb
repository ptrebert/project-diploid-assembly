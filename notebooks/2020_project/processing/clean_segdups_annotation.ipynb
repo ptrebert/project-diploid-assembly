{
 "cells": [
  {
   "cell_type": "code",
   "execution_count": 20,
   "metadata": {},
   "outputs": [],
   "source": [
    "import pandas as pd\n",
    "\n",
    "\"\"\"\n",
    "What does this do?\n",
    "Clean up SD annotation downloaded from UCSC\n",
    "Rescales pct. id. into \"score\" BED column (0-1000), and creates combined name\n",
    "for output file\n",
    "\"\"\"\n",
    "\n",
    "sd_file = '/home/local/work/code/github/project-diploid-assembly/annotation/grch38/known_regions/segdups_hg38.tsv.gz'\n",
    "\n",
    "df = pd.read_csv(sd_file, sep='\\t')\n",
    "df['chrom'] = df['#chrom']\n",
    "df.drop('#chrom', axis=1, inplace=True)\n",
    "df['score'] = (df['fracMatch'] * 1000).round(0).astype(int)\n",
    "df['name'] = df['uid'].astype(str) + '@' + df['score'].astype(str) + '@' + df['name'].astype(str)\n",
    "\n",
    "\n",
    "new_sort_order = ['chrom'] + list(df.columns[:-1])\n",
    "df = df[new_sort_order]\n",
    "df.sort_values(['chrom', 'chromStart', 'chromEnd'], inplace=True)\n",
    "\n",
    "tsv_output = '/home/local/work/code/github/project-diploid-assembly/annotation/grch38/known_regions/ucsc_segdups.tsv.gz'\n",
    "df.to_csv(tsv_output, sep='\\t', header=True, index=False)\n",
    "\n",
    "bed_output = '/home/local/work/code/github/project-diploid-assembly/annotation/grch38/GRCh38_segdups.bed'\n",
    "with open(bed_output, 'w') as dump:\n",
    "    dump.write('#')\n",
    "    df[['chrom', 'chromStart', 'chromEnd', 'name', 'score', 'strand']].to_csv(dump, sep='\\t', header=True, index=False)"
   ]
  }
 ],
 "metadata": {
  "kernelspec": {
   "display_name": "Python 3",
   "language": "python",
   "name": "python3"
  },
  "language_info": {
   "codemirror_mode": {
    "name": "ipython",
    "version": 3
   },
   "file_extension": ".py",
   "mimetype": "text/x-python",
   "name": "python",
   "nbconvert_exporter": "python",
   "pygments_lexer": "ipython3",
   "version": "3.7.6"
  }
 },
 "nbformat": 4,
 "nbformat_minor": 4
}
