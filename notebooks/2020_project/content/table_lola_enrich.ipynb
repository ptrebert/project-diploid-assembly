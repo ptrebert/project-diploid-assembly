{
 "cells": [
  {
   "cell_type": "code",
   "execution_count": 15,
   "metadata": {},
   "outputs": [
    {
     "name": "stdout",
     "output_type": "stream",
     "text": [
      "breaks_inv-0-60_any_all.10kb.3c.lola.tsv\n",
      "breaks_inv-10-60_any_all.10kb.3c.lola.tsv\n",
      "breaks_inv-20-60_any_all.10kb.3c.lola.tsv\n"
     ]
    }
   ],
   "source": [
    "import os\n",
    "import math\n",
    "\n",
    "import pandas as pd\n",
    "import numpy as np\n",
    "\n",
    "\"\"\"\n",
    "What does this do?\n",
    "Clean up LOLA output tables; replace filenames with more descriptive names\n",
    "and cap the OR at 1000 (for np.inf cases).\n",
    "Subset table to stat. sig. rows.\n",
    "\n",
    "Dumps tables that have to be manually merged to generate Supp. Table \"assembly breaks / enriched annotations\"\n",
    "\"\"\"\n",
    "\n",
    "#print('0.05 - ', -1 * math.log10(0.05))\n",
    "\n",
    "#qvals = [round(-1 * math.log10(float(q)), 2) for q in qv.strip('\"').split()]\n",
    "\n",
    "path = '/home/local/work/data/hgsvc/lola'\n",
    "\n",
    "desc_map = {\n",
    "    'Ngap_ctg_ucsc.bed': '\"N gap (contig)\"',\n",
    "    'Ngap_telo_ucsc.bed': '\"N gap (telomere)\"',\n",
    "    'Ngap_scf_ucsc.bed': '\"N gap (scaffold)\"',\n",
    "    'centromeres.bed': '\"Centromere\"',\n",
    "    'Ngap_hetchrom_ucsc.bed': '\"N gap (heterochromatin)\"',\n",
    "    'segdups.bed': '\"Segmental duplications\"',\n",
    "    'cpg_islands.bed': '\"CpG islands\"',\n",
    "    'Ngap_shortarm_ucsc.bed': '\"N gap (short arm)\"',\n",
    "    'microsats.bed': '\"Microsatellites\"',\n",
    "    'rmsk_highconf_RNArep.tsv': '\"RNA repeats (RPMSK)\"'\n",
    "}\n",
    "\n",
    "for table in os.listdir(path):\n",
    "    if not table.endswith('lola.tsv'):\n",
    "        continue\n",
    "    print(table)\n",
    "    table_path = os.path.join(path, table)\n",
    "    df = pd.read_csv(table_path, sep='\\t', header=0)\n",
    "    df = df.loc[df['collection'] == 'ucsc_features', :].copy()\n",
    "    df.drop(['cellType', 'tissue', 'antibody', 'treatment', 'dataSource', 'collection'], axis=1, inplace=True)\n",
    "    df['qValueLog'] = -1 * np.log10(df['qValue'])\n",
    "    \n",
    "    # for annotations that are entirely covered in the user set\n",
    "    # (trivially, e.g., corresponding to N gaps that cannot be aligned to),\n",
    "    # set the OR to 1000 for easier manipulation of the DataFrame\n",
    "    select_inf = df['oddsRatio'] == np.inf\n",
    "    df.loc[select_inf, 'oddsRatio'] = 1000.\n",
    "    \n",
    "    # limit to results considered statistically significant\n",
    "    select_qv = df['qValueLog'] > 2\n",
    "    select_or = df['oddsRatio'] > 1\n",
    "    \n",
    "    df = df.loc[(select_qv & select_or), :].copy()\n",
    "    df['description'] = df['filename'].apply(lambda x: desc_map[x])\n",
    "    df.sort_values(['oddsRatio', 'qValueLog'], ascending=False, inplace=True)\n",
    "    \n",
    "    dump_columns = [\n",
    "        'description',\n",
    "        'oddsRatio',\n",
    "        'qValueLog',\n",
    "        'support'\n",
    "    ]\n",
    "    \n",
    "    outfile = table_path.replace('.tsv', '.clean.tsv')\n",
    "    df[dump_columns].to_csv(\n",
    "        outfile,\n",
    "        sep='\\t',\n",
    "        index=False,\n",
    "        header=True\n",
    "    )    \n"
   ]
  }
 ],
 "metadata": {
  "kernelspec": {
   "display_name": "Python 3",
   "language": "python",
   "name": "python3"
  },
  "language_info": {
   "codemirror_mode": {
    "name": "ipython",
    "version": 3
   },
   "file_extension": ".py",
   "mimetype": "text/x-python",
   "name": "python",
   "nbconvert_exporter": "python",
   "pygments_lexer": "ipython3",
   "version": "3.7.6"
  }
 },
 "nbformat": 4,
 "nbformat_minor": 4
}
