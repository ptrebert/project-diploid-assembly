{
 "cells": [
  {
   "cell_type": "code",
   "execution_count": 3,
   "metadata": {},
   "outputs": [
    {
     "name": "stdout",
     "output_type": "stream",
     "text": [
      "         sample_name  predicted_class  class_1_probability  cutoff_class\n",
      "0  HG02818x02PE20301                1               0.9974             1\n",
      "1  HG02818x02PE20302                1               0.9996             1\n",
      "2  HG02818x02PE20303                1               0.9996             1\n",
      "3  HG02818x02PE20304                1               0.9992             1\n",
      "4  HG02818x02PE20305                1               0.9995             1\n",
      "['HG00268', 'HG01352', 'HG02059', 'HG02106', 'HG02818', 'HG03125', 'HG03486', 'HG04217', 'NA19434']\n",
      "864\n",
      "29.398148148148145\n",
      "254\n",
      "['HG02818x02PE20320', 'HG02818x02PE20338', 'HG02818x02PE20341', 'HG02818x02PE20359', 'HG02818x02PE20362', 'HG02818x02PE20383', 'HG02818x02PE20385', 'HG02818x02PE20386', 'HG02818x02PE20387', 'HG02818x02PE20391', 'HG02818x02PE20393', 'HG02818x02PE20395', 'HG02818x02PE20396', 'HG03125x02PE20301', 'HG03125x02PE20302', 'HG03125x02PE20305', 'HG03125x02PE20306', 'HG03125x02PE20308', 'HG03125x02PE20309', 'HG03125x02PE20324', 'HG03125x02PE20325', 'HG03125x02PE20328', 'HG03125x02PE20331', 'HG03125x02PE20333', 'HG03125x02PE20336', 'HG03125x02PE20337', 'HG03125x02PE20342', 'HG03125x02PE20344', 'HG03125x02PE20347', 'HG03125x02PE20352', 'HG03125x02PE20354', 'HG03125x02PE20363', 'HG03125x02PE20366', 'HG03125x02PE20367', 'HG03125x02PE20373', 'HG03125x02PE20374', 'HG03125x02PE20379', 'HG03125x02PE20380', 'HG03125x02PE20382', 'HG03125x02PE20384', 'HG03125x02PE20386', 'HG03125x02PE20388', 'HG03125x02PE20389', 'HG03125x02PE20393', 'HG03486x02PE20504', 'HG03486x02PE20509', 'HG03486x02PE20513', 'HG03486x02PE20516', 'HG03486x02PE20520', 'HG03486x02PE20521', 'HG03486x02PE20527', 'HG03486x02PE20528', 'HG03486x02PE20531', 'HG03486x02PE20535', 'HG03486x02PE20539', 'HG03486x02PE20550', 'HG03486x02PE20553', 'HG03486x02PE20554', 'HG03486x02PE20557', 'HG03486x02PE20561', 'HG03486x02PE20570', 'HG03486x02PE20574', 'HG03486x02PE20581', 'HG03486x02PE20588', 'NA19434x02PE20501', 'NA19434x02PE20503', 'NA19434x02PE20505', 'NA19434x02PE20507', 'NA19434x02PE20508', 'NA19434x02PE20514', 'NA19434x02PE20516', 'NA19434x02PE20523', 'NA19434x02PE20524', 'NA19434x02PE20525', 'NA19434x02PE20532', 'NA19434x02PE20533', 'NA19434x02PE20534', 'NA19434x02PE20535', 'NA19434x02PE20539', 'NA19434x02PE20540', 'NA19434x02PE20541', 'NA19434x02PE20546', 'NA19434x02PE20548', 'NA19434x02PE20551', 'NA19434x02PE20554', 'NA19434x02PE20556', 'NA19434x02PE20561', 'NA19434x02PE20563', 'NA19434x02PE20564', 'NA19434x02PE20567', 'NA19434x02PE20571', 'NA19434x02PE20572', 'NA19434x02PE20579', 'NA19434x02PE20580', 'NA19434x02PE20582', 'NA19434x02PE20584', 'NA19434x02PE20587', 'NA19434x02PE20588', 'NA19434x02PE20594', 'NA19434x02PE20595', 'NA19434x02PE20596']\n",
      "101\n"
     ]
    }
   ],
   "source": [
    "import os\n",
    "import pandas as pd\n",
    "import collections as col\n",
    "\n",
    "path = 'new_prediction_all.tsv'\n",
    "\n",
    "df = pd.read_csv(path, sep='\\t')\n",
    "df['cutoff_class'] = 0\n",
    "df.loc[(df['class_1_probability'] >= 0.7), 'cutoff_class'] = 1\n",
    "print(df.head())\n",
    "\n",
    "samples = set(df['sample_name'].str.extract('(?P<sample>[HGNA]{2}[0-9]+)', expand=False))\n",
    "print(sorted(samples))\n",
    "print(len(samples) * 96)\n",
    "blacklist_cells = list(df.loc[df['cutoff_class'] < 1, 'sample_name'].values)\n",
    "\n",
    "print(len(blacklist_cells) / (len(samples) * 96) * 100)\n",
    "\n",
    "print(len(blacklist_cells))\n",
    "\n",
    "selected_samples = ['HG02818', 'HG03486', 'HG03125', 'NA19434']\n",
    "\n",
    "blacklist_cells = [c for c in blacklist_cells if any(x in c for x in selected_samples)]\n",
    "print(blacklist_cells)\n",
    "print(len(blacklist_cells))\n",
    "\n",
    "out_path = '/home/local/work/code/github/project-diploid-assembly/annotation/in_preparation'\n",
    "out_file = 'bl_supp_HG02818_HG03125_HG03486_NA19434.txt'\n",
    "\n",
    "with open(os.path.join(out_path, out_file), 'w') as dump:\n",
    "    _ = dump.write('\\n'.join(sorted(blacklist_cells)))"
   ]
  }
 ],
 "metadata": {
  "kernelspec": {
   "display_name": "Python 3",
   "language": "python",
   "name": "python3"
  },
  "language_info": {
   "codemirror_mode": {
    "name": "ipython",
    "version": 3
   },
   "file_extension": ".py",
   "mimetype": "text/x-python",
   "name": "python",
   "nbconvert_exporter": "python",
   "pygments_lexer": "ipython3",
   "version": "3.7.6"
  }
 },
 "nbformat": 4,
 "nbformat_minor": 4
}
