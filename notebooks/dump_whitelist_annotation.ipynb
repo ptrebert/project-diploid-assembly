{
 "cells": [
  {
   "cell_type": "code",
   "execution_count": 8,
   "metadata": {},
   "outputs": [
    {
     "name": "stdout",
     "output_type": "stream",
     "text": [
      "[('HG02492', 42), ('NA18939', 41), ('HG00864', 40), ('HG02587', 37), ('HG02011', 36), ('HG01114', 34), ('HG01573', 34), ('HG03732', 34), ('NA20509', 33), ('HG03065', 31), ('HG02018', 30), ('HG03371', 30), ('NA19983', 30), ('HG00171', 29), ('NA12329', 28), ('HG01505', 27), ('HG01596', 26), ('NA20847', 24), ('HG03009', 23), ('NA19036', 22), ('HG03683', 20), ('NA19650', 19), ('NA18534', 17), ('HG00096', 14)]\n",
      "===\n",
      "[('HG00096', 82), ('NA18534', 79), ('NA19650', 77), ('HG03683', 76), ('NA19036', 74), ('HG03009', 73), ('NA20847', 72), ('HG01596', 70), ('HG01505', 69), ('NA12329', 68), ('HG00171', 67), ('HG02018', 66), ('HG03371', 66), ('NA19983', 66), ('HG03065', 65), ('NA20509', 63), ('HG01114', 62), ('HG01573', 62), ('HG03732', 62), ('HG02011', 60), ('HG02587', 59), ('HG00864', 56), ('NA18939', 55), ('HG02492', 54)]\n"
     ]
    }
   ],
   "source": [
    "\n",
    "import os\n",
    "import collections as col\n",
    "\n",
    "all_cells = '/home/local/work/data/hgsvc/sseq_qc/sseq_cells.txt'\n",
    "\n",
    "blacklist = '/home/local/work/code/github/project-diploid-assembly/annotation/hgsvc_blacklist.txt'\n",
    "\n",
    "blacklisted = col.defaultdict(set)\n",
    "with open(blacklist, 'r') as bl:\n",
    "    for line in bl:\n",
    "        sample, lib = line.strip().split('x')\n",
    "        sample = sample.rstrip('AB')\n",
    "        if sample.startswith('GM'):\n",
    "            sample = sample.replace('GM', 'NA')\n",
    "        blacklisted[sample].add('x' + lib)\n",
    "\n",
    "\n",
    "whitelisted = col.defaultdict(set)\n",
    "wl_count = col.Counter()\n",
    "bl_count = col.Counter()\n",
    "with open(all_cells, 'r') as table:\n",
    "    for line in table:\n",
    "        fname = os.path.basename(line.strip()).split('.')[0]\n",
    "        sample, _, _, lib, mate = fname.split('_')\n",
    "        lib = lib.lstrip('AB')\n",
    "        if mate == '2':\n",
    "            continue\n",
    "        if lib in blacklisted[sample]:\n",
    "            bl_count[sample] += 1\n",
    "            continue\n",
    "        whitelisted[sample].add(lib)\n",
    "        wl_count[sample] += 1\n",
    "\n",
    "print(bl_count.most_common())\n",
    "print('===')\n",
    "print(wl_count.most_common())\n",
    "\n",
    "\"\"\"\n",
    "   68 HG00096_ok-qual_libs.txt\n",
    "   49 HG00171_ok-qual_libs.txt\n",
    "   42 HG00864_ok-qual_libs.txt\n",
    "   52 HG01114_ok-qual_libs.txt\n",
    "   63 HG01505_ok-qual_libs.txt\n",
    "   46 HG01573_ok-qual_libs.txt\n",
    "   52 HG01596_ok-qual_libs.txt\n",
    "   55 HG02011_ok-qual_libs.txt\n",
    "   52 HG02018_ok-qual_libs.txt\n",
    "   40 HG02492_ok-qual_libs.txt\n",
    "   53 HG02587_ok-qual_libs.txt\n",
    "   56 HG03009_ok-qual_libs.txt\n",
    "   56 HG03065_ok-qual_libs.txt\n",
    "   61 HG03371_ok-qual_libs.txt\n",
    "   50 HG03683_ok-qual_libs.txt\n",
    "   49 HG03732_ok-qual_libs.txt\n",
    "   60 NA12329_ok-qual_libs.txt\n",
    "   56 NA18534_ok-qual_libs.txt\n",
    "   42 NA18939_ok-qual_libs.txt\n",
    "   50 NA19036_ok-qual_libs.txt\n",
    "   55 NA19650_ok-qual_libs.txt\n",
    "   46 NA19983_ok-qual_libs.txt\n",
    "   52 NA20509_ok-qual_libs.txt\n",
    "   57 NA20847_ok-qual_libs.txt\n",
    "\"\"\"\n",
    "\n",
    "for sample, lib_ids in whitelisted.items():\n",
    "    fname = '{}_clust-qual_libs.txt'.format(sample)\n",
    "    with open(fname, 'w') as dump:\n",
    "        _ = dump.write('\\n'.join(sorted(lib_ids)))\n",
    "        "
   ]
  }
 ],
 "metadata": {
  "kernelspec": {
   "display_name": "Python 3",
   "language": "python",
   "name": "python3"
  },
  "language_info": {
   "codemirror_mode": {
    "name": "ipython",
    "version": 3
   },
   "file_extension": ".py",
   "mimetype": "text/x-python",
   "name": "python",
   "nbconvert_exporter": "python",
   "pygments_lexer": "ipython3",
   "version": "3.7.6"
  }
 },
 "nbformat": 4,
 "nbformat_minor": 4
}
