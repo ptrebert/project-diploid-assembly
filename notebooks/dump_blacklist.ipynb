{
 "cells": [
  {
   "cell_type": "code",
   "execution_count": 5,
   "metadata": {},
   "outputs": [
    {
     "name": "stdout",
     "output_type": "stream",
     "text": [
      "(1681, 5)\n",
      "Index(['sample', 'cell', 'score', 'comments', 'reads'], dtype='object')\n",
      "(425, 5)\n",
      "(23, 5)\n",
      "(1233, 5)\n",
      "448\n"
     ]
    }
   ],
   "source": [
    "import pandas\n",
    "import os\n",
    "\n",
    "fn = '20200507_PEbert_QCselectCtrl_HGSVClibs.txt'\n",
    "\n",
    "df = pandas.read_csv(fn, sep='\\t', comment='#')\n",
    "print(df.shape)\n",
    "print(df.columns)\n",
    "\n",
    "low_qual = df.loc[df['score'] == 0, :]\n",
    "print(low_qual.shape)\n",
    "lq_cells = set(low_qual['cell'].values)\n",
    "\n",
    "controls = df.loc[df['score'] == -1, :]\n",
    "print(controls.shape)\n",
    "control_cells = set(controls['cell'].values)\n",
    "\n",
    "high_qual = df.loc[df['score'] == 1, :]\n",
    "print(high_qual.shape)\n",
    "hq_cells = set(high_qual['cell'].values)\n",
    "\n",
    "lq_control = lq_cells.intersection(control_cells)\n",
    "if len(lq_control) != 0:\n",
    "    raise ValueError('control in lq: {}'.format(sorted(lq_cells)))\n",
    "\n",
    "hq_control = hq_cells.intersection(control_cells)\n",
    "if len(hq_control) != 0:\n",
    "    raise ValueError('control in hq: {}'.format(sorted(hq_control)))\n",
    "\n",
    "\n",
    "\n",
    "blacklist = 'hgsvc_blacklist.txt'\n",
    "\n",
    "blacklisted = control_cells.union(lq_cells)\n",
    "print(len(blacklisted))\n",
    "\n",
    "with open(blacklist, 'w') as dump:\n",
    "    _ = dump.write('\\n'.join(sorted(blacklisted)))\n"
   ]
  }
 ],
 "metadata": {
  "kernelspec": {
   "display_name": "Python 3",
   "language": "python",
   "name": "python3"
  },
  "language_info": {
   "codemirror_mode": {
    "name": "ipython",
    "version": 3
   },
   "file_extension": ".py",
   "mimetype": "text/x-python",
   "name": "python",
   "nbconvert_exporter": "python",
   "pygments_lexer": "ipython3",
   "version": "3.6.9"
  }
 },
 "nbformat": 4,
 "nbformat_minor": 2
}
